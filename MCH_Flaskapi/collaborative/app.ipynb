{
 "cells": [
  {
   "cell_type": "code",
   "execution_count": null,
   "id": "7648b961",
   "metadata": {
    "scrolled": true
   },
   "outputs": [
    {
     "name": "stdout",
     "output_type": "stream",
     "text": [
      " * Serving Flask app \"__main__\" (lazy loading)\n",
      " * Environment: production\n",
      "\u001b[31m   WARNING: This is a development server. Do not use it in a production deployment.\u001b[0m\n",
      "\u001b[2m   Use a production WSGI server instead.\u001b[0m\n",
      " * Debug mode: on\n"
     ]
    },
    {
     "name": "stderr",
     "output_type": "stream",
     "text": [
      " * Running on http://127.0.0.1:8000/ (Press CTRL+C to quit)\n"
     ]
    }
   ],
   "source": [
    "from flask import Flask,request,jsonify,redirect,flash\n",
    "from flask import render_template\n",
    "from flask import Flask, session\n",
    "from flask import session as sess\n",
    "from werkzeug.utils import secure_filename\n",
    "import os\n",
    "from flask import Response\n",
    "import pandas as pd\n",
    "import nltk\n",
    "import json\n",
    "from main import driver\n",
    "from flask import Flask, url_for\n",
    "import io\n",
    "from io import StringIO\n",
    "\n",
    "from useraffinity.useraffinity_model_artwork import Useraffinityartwork\n",
    "from collab.artwork_collab_training import Collaborative_Artwork\n",
    "\n",
    "UPLOAD_FOLDER =r\"C:\\Users\\slakshmi\\Downloads\\suba\\MCH_Flaskapi\\MCH_Flaskapi\\collaborative\\static\\uploads\"\n",
    "\n",
    "app = Flask(__name__)\n",
    "app.config['UPLOAD_FOLDER'] = UPLOAD_FOLDER\n",
    "input_path=r\"C:\\Users\\slakshmi\\Downloads\\suba\\MCH_Flaskapi\\MCH_Flaskapi\\input\"\n",
    "output_path=r\"C:\\Users\\slakshmi\\Downloads\\suba\\MCH_Flaskapi\\MCH_Flaskapi\\output\"\n",
    "\n",
    "ALLOWED_EXTENSIONS = set(['csv','json'])\n",
    "\n",
    "def allowed_file(filename):\n",
    "    return '.' in filename and filename.rsplit('.',1)[1].lower() in ALLOWED_EXTENSIONS\n",
    "\n",
    "@app.route('/', methods=['GET','POST'])\n",
    "def upload_file(filename=None,column=None, data=None):\n",
    "    if request.method == 'POST':\n",
    "        clicked = StringIO(request.form['data'])\n",
    "\n",
    "            \n",
    "        utilitymatrix_artwork = pd.read_csv(clicked, sep=',', engine='python', encoding='utf_8_sig')\n",
    "        print(utilitymatrix_artwork)\n",
    "        all_artwork_profile=pd.read_csv(os.path.join(input_path,\"content_complete_dump.csv\"))\n",
    "        ovr_artwork_profile=pd.read_csv(os.path.join(input_path,\"content_latest_OVR.csv\"))\n",
    "        collab_artwork, upe, map_k, user_vec_df, pred_df_with_feature =driver(utilitymatrix_artwork,all_artwork_profile,\n",
    "                                                                              ovr_artwork_profile)\n",
    "        df_list = pred_df_with_feature.values.tolist()\n",
    "#         JSONP_data = jsonify(df_list)\n",
    "        return jsonify(df_list)  \n",
    "    \n",
    "    return render_template('index.html', filename=filename, data=data, column=column)\n",
    "\n",
    "\n",
    "# @app.route('/temp', methods=['GET','POST'])\n",
    "#     return render_template('index.html', filename=filename, data=data, column=column)\n",
    "\n",
    "\n",
    "if __name__ == '__main__':\n",
    "    app.secret_key = 'super secret key'\n",
    "    app.config['SESSION_TYPE'] = 'filesystem'\n",
    "    app.run(debug=True, use_reloader=False, port =8000)\n",
    "    "
   ]
  },
  {
   "cell_type": "code",
   "execution_count": null,
   "id": "bc97d0b8",
   "metadata": {},
   "outputs": [],
   "source": []
  }
 ],
 "metadata": {
  "kernelspec": {
   "display_name": "Python 3 (ipykernel)",
   "language": "python",
   "name": "python3"
  },
  "language_info": {
   "codemirror_mode": {
    "name": "ipython",
    "version": 3
   },
   "file_extension": ".py",
   "mimetype": "text/x-python",
   "name": "python",
   "nbconvert_exporter": "python",
   "pygments_lexer": "ipython3",
   "version": "3.9.7"
  }
 },
 "nbformat": 4,
 "nbformat_minor": 5
}
