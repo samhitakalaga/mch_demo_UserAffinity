{
 "cells": [
  {
   "cell_type": "code",
   "execution_count": 1,
   "id": "a207deda",
   "metadata": {
    "scrolled": true
   },
   "outputs": [
    {
     "name": "stdout",
     "output_type": "stream",
     "text": [
      "\n",
      "********Artwork collaborative model Training started********\n",
      "------------Data Preprocessing------------\n",
      "original shape (41, 3)\n",
      "after dups check (41, 3)\n",
      "\n",
      "Number of unique Items before filtration: 41\n",
      "Number of unique users before filtration: 1\n",
      "Total no.of.rows before filtration: 41\n",
      "\n",
      "Number of unique Items after filtration: 41\n",
      "Number of unique users after filtration: 1\n",
      "Total no.of.rows after filtration: 41\n",
      "set_difference []\n",
      "valset unique users 1\n",
      "validation dataset shape (7, 3)\n"
     ]
    },
    {
     "name": "stderr",
     "output_type": "stream",
     "text": [
      "[nltk_data] Error loading all: <urlopen error [SSL:\n",
      "[nltk_data]     CERTIFICATE_VERIFY_FAILED] certificate verify failed:\n",
      "[nltk_data]     unable to get local issuer certificate (_ssl.c:1108)>\n"
     ]
    },
    {
     "name": "stdout",
     "output_type": "stream",
     "text": [
      "\n",
      "------------R Matrix Creation------------\n",
      "\n",
      "R matrix shape: (1, 977)\n",
      "\n",
      "R matrix sparsity: 0.9651995905834186\n",
      "\n",
      "------------Item vector Creation------------\n",
      "Dataset shape: (977, 5)\n"
     ]
    },
    {
     "name": "stderr",
     "output_type": "stream",
     "text": [
      "C:\\Users\\smurugan\\Desktop\\MCH_Flaskapi\\collaborative\\collab\\artwork_content_recsys.py:251: FutureWarning: In a future version of pandas all arguments of DataFrame.drop except for the argument 'labels' will be keyword-only\n",
      "  data = data.drop('cleaned_text', 1)\n",
      "C:\\Users\\smurugan\\Desktop\\MCH_Flaskapi\\collaborative\\collab\\artwork_content_recsys.py:353: FutureWarning: In a future version of pandas all arguments of DataFrame.drop except for the argument 'labels' will be keyword-only\n",
      "  data = data.drop('artwork_price', 1)\n",
      "C:\\Users\\smurugan\\Desktop\\MCH_Flaskapi\\collaborative\\collab\\artwork_content_recsys.py:330: FutureWarning: In a future version of pandas all arguments of DataFrame.drop except for the argument 'labels' will be keyword-only\n",
      "  df = df.drop('materials', 1)\n",
      "C:\\Users\\smurugan\\Desktop\\MCH_Flaskapi\\collaborative\\collab\\artwork_content_recsys.py:331: FutureWarning: In a future version of pandas all arguments of DataFrame.drop except for the argument 'labels' will be keyword-only\n",
      "  df = df.drop('artwork_year', 1)\n"
     ]
    },
    {
     "name": "stdout",
     "output_type": "stream",
     "text": [
      "\n",
      "Artwork features for item vector: ['artwork_medium', 'materials', 'artwork_price', 'artwork_year']\n",
      "\n",
      "Encoded data shape:  (977, 378)\n",
      "latent_features:  378\n",
      "\n",
      "------------Model Training Started------------\n"
     ]
    },
    {
     "name": "stderr",
     "output_type": "stream",
     "text": [
      "  7%|▋         | 1/15 [00:00<00:02,  6.18it/s]"
     ]
    },
    {
     "name": "stdout",
     "output_type": "stream",
     "text": [
      "\n",
      "epoch:  1\n",
      "\tcurrent iteration: 10\n",
      "\tcurrent iteration: 20\n",
      "\tcurrent iteration: 30\n",
      "\tcurrent iteration: 40\n",
      "\tcurrent iteration: 50\n",
      "\tcurrent iteration: 60\n",
      "\tcurrent iteration: 70\n",
      "\tcurrent iteration: 80\n",
      "\tcurrent iteration: 90\n",
      "\tcurrent iteration: 100\n",
      "\n",
      "Train rmse score:  0.4134028532533473\n",
      "\n",
      "Val rmse score:  1.3720912956151736\n",
      "\n",
      "epoch:  2\n",
      "\tcurrent iteration: 10\n"
     ]
    },
    {
     "name": "stderr",
     "output_type": "stream",
     "text": [
      "\r",
      " 13%|█▎        | 2/15 [00:00<00:02,  5.98it/s]"
     ]
    },
    {
     "name": "stdout",
     "output_type": "stream",
     "text": [
      "\tcurrent iteration: 20\n",
      "\tcurrent iteration: 30\n",
      "\tcurrent iteration: 40\n",
      "\tcurrent iteration: 50\n",
      "\tcurrent iteration: 60\n",
      "\tcurrent iteration: 70\n",
      "\tcurrent iteration: 80\n",
      "\tcurrent iteration: 90\n",
      "\tcurrent iteration: 100\n",
      "\n",
      "Train rmse score:  0.32565138809157346\n",
      "\n",
      "Val rmse score:  1.5376712564051565\n",
      "\n",
      "epoch:  3\n",
      "\tcurrent iteration: 10\n",
      "\tcurrent iteration: 20\n",
      "\tcurrent iteration: 30\n"
     ]
    },
    {
     "name": "stderr",
     "output_type": "stream",
     "text": [
      "\r",
      " 20%|██        | 3/15 [00:00<00:01,  6.02it/s]"
     ]
    },
    {
     "name": "stdout",
     "output_type": "stream",
     "text": [
      "\tcurrent iteration: 40\n",
      "\tcurrent iteration: 50\n",
      "\tcurrent iteration: 60\n",
      "\tcurrent iteration: 70\n",
      "\tcurrent iteration: 80\n",
      "\tcurrent iteration: 90\n",
      "\tcurrent iteration: 100\n",
      "\n",
      "Train rmse score:  0.2887104569182175\n",
      "\n",
      "Val rmse score:  1.601344602633137\n",
      "\n",
      "epoch:  4\n",
      "\tcurrent iteration: 10\n",
      "\tcurrent iteration: 20\n",
      "\tcurrent iteration: 30\n",
      "\tcurrent iteration: 40\n",
      "\tcurrent iteration: 50\n",
      "\tcurrent iteration: 60\n",
      "\tcurrent iteration: 70"
     ]
    },
    {
     "name": "stderr",
     "output_type": "stream",
     "text": [
      "\r",
      " 27%|██▋       | 4/15 [00:00<00:01,  6.10it/s]"
     ]
    },
    {
     "name": "stdout",
     "output_type": "stream",
     "text": [
      "\n",
      "\tcurrent iteration: 80\n",
      "\tcurrent iteration: 90\n",
      "\tcurrent iteration: 100\n",
      "\n",
      "Train rmse score:  0.26865366142103086\n",
      "\n",
      "Val rmse score:  1.628249401330995\n",
      "\n",
      "epoch:  5\n",
      "\tcurrent iteration: 10\n",
      "\tcurrent iteration: 20\n",
      "\tcurrent iteration: 30\n",
      "\tcurrent iteration: 40\n",
      "\tcurrent iteration: 50\n",
      "\tcurrent iteration: 60\n",
      "\tcurrent iteration: 70\n",
      "\tcurrent iteration: 80\n",
      "\tcurrent iteration: 90\n",
      "\tcurrent iteration: 100\n",
      "\n",
      "Train rmse score:  0.257144974482041\n",
      "\n",
      "Val rmse score:  1.6470330631855674\n"
     ]
    },
    {
     "name": "stderr",
     "output_type": "stream",
     "text": [
      " 40%|████      | 6/15 [00:00<00:01,  6.63it/s]"
     ]
    },
    {
     "name": "stdout",
     "output_type": "stream",
     "text": [
      "\n",
      "epoch:  6\n",
      "\tcurrent iteration: 10\n",
      "\tcurrent iteration: 20\n",
      "\tcurrent iteration: 30\n",
      "\tcurrent iteration: 40\n",
      "\tcurrent iteration: 50\n",
      "\tcurrent iteration: 60\n",
      "\tcurrent iteration: 70\n",
      "\tcurrent iteration: 80\n",
      "\tcurrent iteration: 90\n",
      "\tcurrent iteration: 100\n",
      "\n",
      "Train rmse score:  0.25045877780177767\n",
      "\n",
      "Val rmse score:  1.644838670788405\n",
      "\n",
      "epoch:  7\n",
      "\tcurrent iteration: 10\n",
      "\tcurrent iteration: 20\n",
      "\tcurrent iteration: 30\n"
     ]
    },
    {
     "name": "stderr",
     "output_type": "stream",
     "text": [
      "\r",
      " 47%|████▋     | 7/15 [00:01<00:01,  6.05it/s]"
     ]
    },
    {
     "name": "stdout",
     "output_type": "stream",
     "text": [
      "\tcurrent iteration: 40\n",
      "\tcurrent iteration: 50\n",
      "\tcurrent iteration: 60\n",
      "\tcurrent iteration: 70\n",
      "\tcurrent iteration: 80\n",
      "\tcurrent iteration: 90\n",
      "\tcurrent iteration: 100\n",
      "\n",
      "Train rmse score:  0.24652260745922747\n",
      "\n",
      "Val rmse score:  1.6459444051273135\n",
      "\n",
      "epoch:  8\n",
      "\tcurrent iteration: 10\n",
      "\tcurrent iteration: 20\n",
      "\tcurrent iteration: 30\n",
      "\tcurrent iteration: 40\n",
      "\tcurrent iteration: 50\n",
      "\tcurrent iteration: 60\n"
     ]
    },
    {
     "name": "stderr",
     "output_type": "stream",
     "text": [
      "\r",
      " 53%|█████▎    | 8/15 [00:01<00:01,  6.10it/s]"
     ]
    },
    {
     "name": "stdout",
     "output_type": "stream",
     "text": [
      "\tcurrent iteration: 70\n",
      "\tcurrent iteration: 80\n",
      "\tcurrent iteration: 90\n",
      "\tcurrent iteration: 100\n",
      "\n",
      "Train rmse score:  0.24377548734774374\n",
      "\n",
      "Val rmse score:  1.6639288002809978\n",
      "\n",
      "epoch:  9\n",
      "\tcurrent iteration: 10\n",
      "\tcurrent iteration: 20\n",
      "\tcurrent iteration: 30\n",
      "\tcurrent iteration: 40\n",
      "\tcurrent iteration: 50\n",
      "\tcurrent iteration: 60\n",
      "\tcurrent iteration: 70\n"
     ]
    },
    {
     "name": "stderr",
     "output_type": "stream",
     "text": [
      "\r",
      " 60%|██████    | 9/15 [00:01<00:00,  6.05it/s]"
     ]
    },
    {
     "name": "stdout",
     "output_type": "stream",
     "text": [
      "\tcurrent iteration: 80\n",
      "\tcurrent iteration: 90\n",
      "\tcurrent iteration: 100\n",
      "\n",
      "Train rmse score:  0.24227666625251487\n",
      "\n",
      "Val rmse score:  1.6694462451897283\n",
      "\n",
      "epoch:  10\n",
      "\tcurrent iteration: 10\n",
      "\tcurrent iteration: 20\n",
      "\tcurrent iteration: 30\n",
      "\tcurrent iteration: 40\n",
      "\tcurrent iteration: 50\n",
      "\tcurrent iteration: 60\n",
      "\tcurrent iteration: 70\n",
      "\tcurrent iteration: 80\n",
      "\tcurrent iteration: 90\n",
      "\tcurrent iteration: 100\n",
      "\n",
      "Train rmse score:  "
     ]
    },
    {
     "name": "stderr",
     "output_type": "stream",
     "text": [
      " 73%|███████▎  | 11/15 [00:01<00:00,  6.50it/s]"
     ]
    },
    {
     "name": "stdout",
     "output_type": "stream",
     "text": [
      "0.24111328688450206\n",
      "\n",
      "Val rmse score:  1.664801788952374\n",
      "\n",
      "epoch:  11\n",
      "\tcurrent iteration: 10\n",
      "\tcurrent iteration: 20\n",
      "\tcurrent iteration: 30\n",
      "\tcurrent iteration: 40\n",
      "\tcurrent iteration: 50\n",
      "\tcurrent iteration: 60\n",
      "\tcurrent iteration: 70\n",
      "\tcurrent iteration: 80\n",
      "\tcurrent iteration: 90\n",
      "\tcurrent iteration: 100\n",
      "\n",
      "Train rmse score:  0.24039848736906702\n",
      "\n",
      "Val rmse score:  1.667841948983313\n",
      "\n",
      "epoch:  12\n",
      "\tcurrent iteration: 10\n",
      "\tcurrent iteration: 20\n",
      "\tcurrent iteration: 30\n"
     ]
    },
    {
     "name": "stderr",
     "output_type": "stream",
     "text": [
      "\r",
      " 80%|████████  | 12/15 [00:01<00:00,  6.44it/s]"
     ]
    },
    {
     "name": "stdout",
     "output_type": "stream",
     "text": [
      "\tcurrent iteration: 40\n",
      "\tcurrent iteration: 50\n",
      "\tcurrent iteration: 60\n",
      "\tcurrent iteration: 70\n",
      "\tcurrent iteration: 80\n",
      "\tcurrent iteration: 90\n",
      "\tcurrent iteration: 100\n",
      "\n",
      "Train rmse score:  0.23999525375842995\n",
      "\n",
      "Val rmse score:  1.6720967344240163\n",
      "\n",
      "epoch:  13\n",
      "\tcurrent iteration: 10\n",
      "\tcurrent iteration: 20\n",
      "\tcurrent iteration: 30\n",
      "\tcurrent iteration: 40\n",
      "\tcurrent iteration: 50\n",
      "\tcurrent iteration: 60\n",
      "\tcurrent iteration: 70\n"
     ]
    },
    {
     "name": "stderr",
     "output_type": "stream",
     "text": [
      " 93%|█████████▎| 14/15 [00:02<00:00,  6.69it/s]"
     ]
    },
    {
     "name": "stdout",
     "output_type": "stream",
     "text": [
      "\tcurrent iteration: 80\n",
      "\tcurrent iteration: 90\n",
      "\tcurrent iteration: 100\n",
      "\n",
      "Train rmse score:  0.23969032178070385\n",
      "\n",
      "Val rmse score:  1.6724239055006094\n",
      "\n",
      "epoch:  14\n",
      "\tcurrent iteration: 10\n",
      "\tcurrent iteration: 20\n",
      "\tcurrent iteration: 30\n",
      "\tcurrent iteration: 40\n",
      "\tcurrent iteration: 50\n",
      "\tcurrent iteration: 60\n",
      "\tcurrent iteration: 70\n",
      "\tcurrent iteration: 80\n",
      "\tcurrent iteration: 90\n",
      "\tcurrent iteration: 100\n",
      "\n",
      "Train rmse score:  0.23950100685319053\n",
      "\n",
      "Val rmse score:  1.6608347224149882\n",
      "\n",
      "epoch:  15\n"
     ]
    },
    {
     "name": "stderr",
     "output_type": "stream",
     "text": [
      "100%|██████████| 15/15 [00:02<00:00,  6.34it/s]\n"
     ]
    },
    {
     "name": "stdout",
     "output_type": "stream",
     "text": [
      "\tcurrent iteration: 10\n",
      "\tcurrent iteration: 20\n",
      "\tcurrent iteration: 30\n",
      "\tcurrent iteration: 40\n",
      "\tcurrent iteration: 50\n",
      "\tcurrent iteration: 60\n",
      "\tcurrent iteration: 70\n",
      "\tcurrent iteration: 80\n",
      "\tcurrent iteration: 90\n",
      "\tcurrent iteration: 100\n",
      "\n",
      "Train rmse score:  0.23926474546954435\n",
      "\n",
      "Val rmse score:  1.672669967725153\n",
      "Best train rmse value: 0.23926474546954435\n",
      "Best rmse at epoch: 15\n",
      "MAP@K 1.0\n",
      "\n",
      "********Artwork collaborative model Training Completed Successfully********\n"
     ]
    }
   ],
   "source": [
    "import os\n",
    "import pickle\n",
    "import numpy as np\n",
    "import pandas as pd\n",
    "import argparse\n",
    "import joblib\n",
    "import datetime\n",
    "from io import StringIO\n",
    "import nltk\n",
    "import json\n",
    "\n",
    "from useraffinity.useraffinity_model_artwork import Useraffinityartwork\n",
    "from collab.artwork_collab_training import Collaborative_Artwork\n",
    "\n",
    "\n",
    "def create_collab_artwork(utilitymatrix_artwork,all_artwork_profile,ovr_artwork_profile):\n",
    "\n",
    "    collab_artwork = Collaborative_Artwork(utilitymatrix_artwork,all_artwork_profile,ovr_artwork_profile)\n",
    "    collab_artwork.fit(utilitymatrix_artwork,all_artwork_profile,ovr_artwork_profile)\n",
    "    return collab_artwork.result, collab_artwork.upe, collab_artwork.map_k, collab_artwork.user_vec_df,collab_artwork.pred_df_with_feature\n",
    "\n",
    "def train_collab_model(utilitymatrix_artwork, all_artwork_profile, ovr_artwork_profile):  \n",
    "    \"\"\"\n",
    "    \n",
    "    Artwork collab model Training\n",
    "    \n",
    "    \"\"\"\n",
    "    \n",
    "    print('\\n********Artwork collaborative model Training started********')\n",
    "    nltk.download('all')\n",
    "    try:\n",
    "        collab_artwork, upe, map_k, user_vec_df, pred_df_with_feature = create_collab_artwork(utilitymatrix_artwork\n",
    "                                                                         , all_artwork_profile, ovr_artwork_profile)\n",
    "        print('\\n********Artwork collaborative model Training Completed Successfully********')\n",
    "    except Exception as e:\n",
    "        collab_artwork = None\n",
    "        upe = None\n",
    "        map_k = None\n",
    "        user_vec_df = None\n",
    "        pred_df_with_feature=None\n",
    "        print(f\"\\nArtwork collab model training failed with Error: {e}\")\n",
    "\n",
    "\n",
    "    return collab_artwork, upe, map_k, user_vec_df, pred_df_with_feature\n",
    "\n",
    "\n",
    "def driver(utilitymatrix_artwork,all_artwork_profile,ovr_artwork_profile):\n",
    "\n",
    "    # Collab model training\n",
    "    collab_artwork, upe, map_k, user_vec_df, pred_df_with_feature = train_collab_model(utilitymatrix_artwork\n",
    "                                                                 , all_artwork_profile,ovr_artwork_profile)\n",
    "    return collab_artwork, upe, map_k, user_vec_df, pred_df_with_feature\n",
    "\n",
    "\n",
    "\n",
    "if __name__ == '__main__':\n",
    "    utilitymatrix_artwork=pd.read_csv(r\"C:\\Users\\smurugan\\Desktop\\MCH_Flaskapi\\philipp_actual_feature_case2.csv\")\n",
    "    all_artwork_profile=pd.read_csv(r\"C:\\Users\\smurugan\\Desktop\\mch_latest\\demo\\content_complete_dump.csv\")\n",
    "    ovr_artwork_profile=pd.read_csv(r\"C:\\Users\\smurugan\\Desktop\\mch_latest\\demo\\content_latest_OVR.csv\")\n",
    "\n",
    "    # train model\n",
    "    collab_artwork, upe, map_k, user_vec_df,pred_df_with_feature = driver(utilitymatrix_artwork,all_artwork_profile,ovr_artwork_profile)\n"
   ]
  },
  {
   "cell_type": "code",
   "execution_count": 2,
   "id": "d3e6cc24",
   "metadata": {},
   "outputs": [
    {
     "data": {
      "text/html": [
       "<div>\n",
       "<style scoped>\n",
       "    .dataframe tbody tr th:only-of-type {\n",
       "        vertical-align: middle;\n",
       "    }\n",
       "\n",
       "    .dataframe tbody tr th {\n",
       "        vertical-align: top;\n",
       "    }\n",
       "\n",
       "    .dataframe thead th {\n",
       "        text-align: right;\n",
       "    }\n",
       "</style>\n",
       "<table border=\"1\" class=\"dataframe\">\n",
       "  <thead>\n",
       "    <tr style=\"text-align: right;\">\n",
       "      <th></th>\n",
       "      <th>item_id</th>\n",
       "      <th>artwork_medium</th>\n",
       "      <th>materials</th>\n",
       "      <th>artwork_price</th>\n",
       "      <th>artwork_year</th>\n",
       "      <th>pred</th>\n",
       "    </tr>\n",
       "  </thead>\n",
       "  <tbody>\n",
       "    <tr>\n",
       "      <th>542</th>\n",
       "      <td>139580.0</td>\n",
       "      <td>Sculpture</td>\n",
       "      <td>Fire-gilded bronze</td>\n",
       "      <td>250000.5</td>\n",
       "      <td>2001.0</td>\n",
       "      <td>4.99</td>\n",
       "    </tr>\n",
       "    <tr>\n",
       "      <th>912</th>\n",
       "      <td>140705.0</td>\n",
       "      <td>Sculpture</td>\n",
       "      <td>Foamed plastic fishing net floats, ink, acryli...</td>\n",
       "      <td>250000.5</td>\n",
       "      <td>1998.0</td>\n",
       "      <td>4.98</td>\n",
       "    </tr>\n",
       "    <tr>\n",
       "      <th>782</th>\n",
       "      <td>139957.0</td>\n",
       "      <td>Photography</td>\n",
       "      <td>Cyanotype</td>\n",
       "      <td>37500.5</td>\n",
       "      <td>2021.0</td>\n",
       "      <td>4.95</td>\n",
       "    </tr>\n",
       "    <tr>\n",
       "      <th>776</th>\n",
       "      <td>139925.0</td>\n",
       "      <td>Photography</td>\n",
       "      <td>Cyanotype</td>\n",
       "      <td>37500.5</td>\n",
       "      <td>2021.0</td>\n",
       "      <td>4.95</td>\n",
       "    </tr>\n",
       "    <tr>\n",
       "      <th>481</th>\n",
       "      <td>139506.0</td>\n",
       "      <td>Painting</td>\n",
       "      <td>acrylic on cotton</td>\n",
       "      <td>250000.5</td>\n",
       "      <td>2002.0</td>\n",
       "      <td>4.72</td>\n",
       "    </tr>\n",
       "    <tr>\n",
       "      <th>215</th>\n",
       "      <td>139180.0</td>\n",
       "      <td>Painting</td>\n",
       "      <td>Oil on linen</td>\n",
       "      <td>250000.5</td>\n",
       "      <td>2004.0</td>\n",
       "      <td>4.72</td>\n",
       "    </tr>\n",
       "    <tr>\n",
       "      <th>757</th>\n",
       "      <td>139888.0</td>\n",
       "      <td>Painting</td>\n",
       "      <td>Egg tempera, gold leaf on gessoed panel</td>\n",
       "      <td>250000.5</td>\n",
       "      <td>2003.0</td>\n",
       "      <td>4.72</td>\n",
       "    </tr>\n",
       "    <tr>\n",
       "      <th>112</th>\n",
       "      <td>139071.0</td>\n",
       "      <td>Sculpture</td>\n",
       "      <td>Cotton</td>\n",
       "      <td>24000.0</td>\n",
       "      <td>1997.0</td>\n",
       "      <td>4.53</td>\n",
       "    </tr>\n",
       "    <tr>\n",
       "      <th>85</th>\n",
       "      <td>139044.0</td>\n",
       "      <td>Sculpture</td>\n",
       "      <td>6 parts, ash wood, hand lathed</td>\n",
       "      <td>28000.0</td>\n",
       "      <td>2005.0</td>\n",
       "      <td>4.53</td>\n",
       "    </tr>\n",
       "    <tr>\n",
       "      <th>786</th>\n",
       "      <td>139965.0</td>\n",
       "      <td>Photography</td>\n",
       "      <td>Pigment print</td>\n",
       "      <td>175000.0</td>\n",
       "      <td>2018.0</td>\n",
       "      <td>4.37</td>\n",
       "    </tr>\n",
       "  </tbody>\n",
       "</table>\n",
       "</div>"
      ],
      "text/plain": [
       "      item_id artwork_medium  \\\n",
       "542  139580.0      Sculpture   \n",
       "912  140705.0      Sculpture   \n",
       "782  139957.0    Photography   \n",
       "776  139925.0    Photography   \n",
       "481  139506.0       Painting   \n",
       "215  139180.0       Painting   \n",
       "757  139888.0       Painting   \n",
       "112  139071.0      Sculpture   \n",
       "85   139044.0      Sculpture   \n",
       "786  139965.0    Photography   \n",
       "\n",
       "                                             materials  artwork_price  \\\n",
       "542                                 Fire-gilded bronze       250000.5   \n",
       "912  Foamed plastic fishing net floats, ink, acryli...       250000.5   \n",
       "782                                          Cyanotype        37500.5   \n",
       "776                                          Cyanotype        37500.5   \n",
       "481                                 acrylic on cotton        250000.5   \n",
       "215                                       Oil on linen       250000.5   \n",
       "757            Egg tempera, gold leaf on gessoed panel       250000.5   \n",
       "112                                             Cotton        24000.0   \n",
       "85                     6 parts, ash wood, hand lathed         28000.0   \n",
       "786                                      Pigment print       175000.0   \n",
       "\n",
       "     artwork_year  pred  \n",
       "542        2001.0  4.99  \n",
       "912        1998.0  4.98  \n",
       "782        2021.0  4.95  \n",
       "776        2021.0  4.95  \n",
       "481        2002.0  4.72  \n",
       "215        2004.0  4.72  \n",
       "757        2003.0  4.72  \n",
       "112        1997.0  4.53  \n",
       "85         2005.0  4.53  \n",
       "786        2018.0  4.37  "
      ]
     },
     "execution_count": 2,
     "metadata": {},
     "output_type": "execute_result"
    }
   ],
   "source": [
    "pred_df_with_feature"
   ]
  },
  {
   "cell_type": "code",
   "execution_count": null,
   "id": "183b4483",
   "metadata": {},
   "outputs": [],
   "source": [
    "pred_df_with_feature.to_csv(r\"C:\\Users\\smurugan\\Desktop\\MCH_Flaskapi\\philipp_pred_feature_case2.csv\")"
   ]
  },
  {
   "cell_type": "code",
   "execution_count": null,
   "id": "1c2bda56",
   "metadata": {},
   "outputs": [],
   "source": []
  }
 ],
 "metadata": {
  "kernelspec": {
   "display_name": "Python 3 (ipykernel)",
   "language": "python",
   "name": "python3"
  },
  "language_info": {
   "codemirror_mode": {
    "name": "ipython",
    "version": 3
   },
   "file_extension": ".py",
   "mimetype": "text/x-python",
   "name": "python",
   "nbconvert_exporter": "python",
   "pygments_lexer": "ipython3",
   "version": "3.8.0"
  }
 },
 "nbformat": 4,
 "nbformat_minor": 5
}
